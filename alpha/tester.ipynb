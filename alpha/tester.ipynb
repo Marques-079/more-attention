{
 "cells": [
  {
   "cell_type": "code",
   "execution_count": 112,
   "id": "0d960516",
   "metadata": {},
   "outputs": [],
   "source": [
    "with open(\"/Users/marcus/Documents/GitHub/more-attention/app/scripts/gen_scripts/2text.txt\", \"r\", encoding=\"utf-8\") as f:\n",
    "  text = f.read()"
   ]
  },
  {
   "cell_type": "code",
   "execution_count": 113,
   "id": "18dd8c70",
   "metadata": {},
   "outputs": [
    {
     "name": "stdout",
     "output_type": "stream",
     "text": [
      "Saved thumbnail: /Users/marcus/Downloads/video_thumbnails_reddit1/WRH_white_20250904_130849.png\n",
      "Words used: 35/191  (ellipsis added: True)\n"
     ]
    }
   ],
   "source": [
    "from thumbnail import generate_thumbnail\n",
    "\n",
    "thumbnail_script = text[:1000]\n",
    "thumbnail_path = generate_thumbnail(template_choice=0, script_text=thumbnail_script, font_size=65, line_spacing_px=7, font_weight=\"bold\", thickness_px=0.1, use_ellipsis=True)"
   ]
  },
  {
   "cell_type": "code",
   "execution_count": 92,
   "id": "e625ccfc",
   "metadata": {},
   "outputs": [],
   "source": [
    "TITLE = \"[FULL STORY] You Were Always Her Favorite. Not For Long.” Weeks Later, The Truth Tore Our Family Apart…\"\n",
    "DESCRIPTION = (\n",
    "  \"Daily stories to help with life's emotional damage 🗣🔥🔥\\n\"\n",
    "\n",
    "  \"We write original first-person dramas inspired by real life—the kinds of twists people actually face. We adapt, condense, and sometimes combine elements to build tight, high-stakes stories with fresh characters and sharp pacing. Names, details, and timelines are changed. These are our own scripts, crafted to entertain. Hit play and enjoy.\\n\"\n",
    "\n",
    "  \"Keywords :)\\n\"\n",
    "  \"reddit relationship stories, boyfriend cheating reddit, infidelity on reddit, open relationship regrets reddit, revenge relationship stories, aita reddit tales relationships, messiest reddit relationships, wild reddit dating stories, storytime aita reddit, relationship advice from reddit, reddit story compilation, tiktok reddit compilations, cheating girlfriend reddit, surviving infidelity reddit, cheating boyfriend stories, ex girlfriend reddit drama, reddit boyfriend saga, reconciliation stories reddit, youtube reddit infidelity, cheating in relationships story, reddit girlfriend stories, open marriage gone wrong, entitled parents stole my birthday, entitled sister saga, wedding day betrayal story, cheating in a relationship tales, infidelity and betrayal reddit, cheating complications reddit, relationships cheating revenge reddit, cheating stories with updates, cheating husband reddit stories, cheating spouse on reddit, best reddit love tales, reddit out loud relationships, family feud on reddit, parenting struggles and fixes, sibling rivalry solutions, family secrets revealed, coping with family conflict, multigenerational family dynamics, toxic family members advice, family therapy moments, betrayal inside the family, forgiveness after betrayal, rebuild trust in family, betrayal quotes and lines, betrayal trauma recovery tips, betrayal in books discussion, share your betrayal experience, surviving betrayal and moving on, dealing with betrayal emotions, signs of betrayal in love, friendship betrayal storytime, petty revenge is sweet, revenge served cold, revenge on ex partner, ultimate revenge stories, reddit relationship advice, family drama reddit, true reddit relationship tales, top reddit stories, best of reddit stories, reddit relationship horror, reddit family disputes, reddit family secrets, reddit confessions family, heartwarming reddit tales, reddit love stories, requestedreads, ami the jerk aita, amithejerk updates, reddit update part 2, relationship update arc, r/relationship_advice drama, best reddit narrations, theredditnarrator inspired, telltales channel vibes, secretvoices style, inkspiller stories, qley narration, top reddit reads of all time, crazy relationship stories reddit, open relationship fallout, polyamory regret reddit, caught cheating reddit, karma revenge reddit, nuclear revenge relationship, petty revenge relationship, relationship red flags reddit, going no contact family, gaslighting recovery reddit, messy breakup stories, ex exposed reddit, caught in 4k cheating, cheating spouse revenge plan, divorce court reddit story, custody drama reddit, entitled parents meltdown, entitled siblings reddit, golden child vs scapegoat, will reading gone wrong, inheritance drama reddit, workplace affair reddit, coworker cheating saga, roommate from hell reddit, neighbor drama reddit, best aita relationship, aita marriage drama, aita family conflict, aita updates compilation, reddit tea time, reddit storytelling channel, reddit narration long form, reddit shorts relationship, youtube shorts aita, reddit tts stories, viral reddit drama, trending reddit relationships, real life inspired stories, first person reddit-style, dramatic storytime compilation\"\n",
    "\n",
    ")\n",
    "HASHTAGS = \"#redditfamilydrama #reddit #redditrelationship\"  # Hashtags go in title/description text\n",
    "TAGS = [\"AITA\", \"Reddit\", \"storytime\", \"#redditstories\",\n",
    "        \"#redditconfessions\", \"#redditreads\", \"#redditandchill\", \"#storytellingenglishforsleeping\", \"#relationshipstories\", \"#redditfamilydrama\", \"#entitledparents\",\n",
    "        \"#aita\", \"#aitareddit\"\n",
    "    ]\n",
    "SCHEDULE_AT_LOCAL = None #\"2025-09-04 19:30\"\n",
    "# Choose a mode: \"instant\" | \"scheduled\" | \"private\"\n",
    "MODE = \"private\""
   ]
  },
  {
   "cell_type": "code",
   "execution_count": 94,
   "id": "db580bbd",
   "metadata": {},
   "outputs": [],
   "source": [
    "from upload_yt import upload_youtube"
   ]
  },
  {
   "cell_type": "code",
   "execution_count": null,
   "id": "159dbf00",
   "metadata": {},
   "outputs": [],
   "source": [
    "combined_yes_captions_path = \"path/to/combined_yes_captions\"\n",
    "thumbnail_path = \"path/to/thumbnail\""
   ]
  },
  {
   "cell_type": "code",
   "execution_count": null,
   "id": "7e075e99",
   "metadata": {},
   "outputs": [],
   "source": [
    "post_youtube = input(\"Do you want to post this to Youtube using API?\")\n",
    "if post_youtube.lower() == \"y\":\n",
    "    upload_youtube(combined_yes_captions_path, thumbnail_path, TITLE, DESCRIPTION, HASHTAGS, TAGS, MODE, SCHEDULE_AT_LOCAL)\n",
    "else:\n",
    "    print(\"Not uploading to YouTube.\")\n",
    "    pass"
   ]
  },
  {
   "cell_type": "code",
   "execution_count": 16,
   "id": "0479acc0",
   "metadata": {},
   "outputs": [],
   "source": [
    "from editing import scroll_left_incremental\n",
    "import time\n",
    "start_s = 6\n",
    "time.sleep(2.0)\n",
    "\n",
    "scroll_left_incremental(start=(500, 700), pixels=115, steps=start_s, pause=0.0005)"
   ]
  },
  {
   "cell_type": "code",
   "execution_count": null,
   "id": "2e8c0e88",
   "metadata": {},
   "outputs": [],
   "source": []
  }
 ],
 "metadata": {
  "language_info": {
   "name": "python"
  }
 },
 "nbformat": 4,
 "nbformat_minor": 5
}
